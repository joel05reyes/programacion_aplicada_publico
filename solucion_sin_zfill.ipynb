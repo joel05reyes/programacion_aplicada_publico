{
  "nbformat": 4,
  "nbformat_minor": 0,
  "metadata": {
    "colab": {
      "provenance": [],
      "authorship_tag": "ABX9TyMbHF4q0qXKRovhkF+3CLng",
      "include_colab_link": true
    },
    "kernelspec": {
      "name": "python3",
      "display_name": "Python 3"
    },
    "language_info": {
      "name": "python"
    }
  },
  "cells": [
    {
      "cell_type": "markdown",
      "metadata": {
        "id": "view-in-github",
        "colab_type": "text"
      },
      "source": [
        "<a href=\"https://colab.research.google.com/github/joel05reyes/programacion_aplicada_publico/blob/main/solucion_sin_zfill.ipynb\" target=\"_parent\"><img src=\"https://colab.research.google.com/assets/colab-badge.svg\" alt=\"Open In Colab\"/></a>"
      ]
    },
    {
      "cell_type": "code",
      "execution_count": 1,
      "metadata": {
        "colab": {
          "base_uri": "https://localhost:8080/"
        },
        "id": "2sWd14JUOM3K",
        "outputId": "74453555-5960-4050-e946-e3f3b5d39cad"
      },
      "outputs": [
        {
          "output_type": "stream",
          "name": "stdout",
          "text": [
            "50\n"
          ]
        }
      ],
      "source": [
        "txt= \"50\"\n",
        "print(txt)"
      ]
    },
    {
      "cell_type": "code",
      "source": [
        "txt=\"50\"\n",
        "a= len(txt)\n",
        "x= 10\n",
        "b=\"0\"\n",
        "print(b*(x-a)+txt)"
      ],
      "metadata": {
        "colab": {
          "base_uri": "https://localhost:8080/"
        },
        "id": "UFyRwdGjOwr2",
        "outputId": "b2332ddb-9121-4405-c07b-333103e4a51f"
      },
      "execution_count": 2,
      "outputs": [
        {
          "output_type": "stream",
          "name": "stdout",
          "text": [
            "0000000050\n"
          ]
        }
      ]
    }
  ]
}